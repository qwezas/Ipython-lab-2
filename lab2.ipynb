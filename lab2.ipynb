{
 "cells": [
  {
   "cell_type": "markdown",
   "id": "25cb7a33-beb4-40c1-9829-2820181faf80",
   "metadata": {},
   "source": [
    "## Лабораторная работа №2\n",
    "### Вариант 26"
   ]
  },
  {
   "cell_type": "code",
   "execution_count": 6,
   "id": "a4560cc2-7609-443e-ad3b-7ed9d76da880",
   "metadata": {},
   "outputs": [],
   "source": [
    "import numpy as np"
   ]
  },
  {
   "cell_type": "markdown",
   "id": "9fe8da55-b31b-429b-9db4-36f62da61eca",
   "metadata": {},
   "source": [
    "Задание 1. **Создание и изменение массивов**\n",
    "\n",
    "Создайте массив NumPy размером 3×3, содержащий числа от 1 до 9. Умножьте все элементы массива на 2, а затем замените все элементы больше 10 на 0. Выведите итоговый массив."
   ]
  },
  {
   "cell_type": "code",
   "execution_count": 25,
   "id": "115b41ad-cd84-41b8-89c1-ee3468450530",
   "metadata": {},
   "outputs": [
    {
     "name": "stdout",
     "output_type": "stream",
     "text": [
      "Исходный массив\n",
      "[[1 2 3]\n",
      " [4 5 6]\n",
      " [7 8 9]]\n",
      "Итоговый массив:\n",
      "[[ 2  4  6]\n",
      " [ 8 10  0]\n",
      " [ 0  0  0]]\n"
     ]
    }
   ],
   "source": [
    "mass = np.matrix('1 2 3; 4 5 6; 7 8 9')\n",
    "print(f'Исходный массив\\n{mass}')\n",
    "\n",
    "mass *= 2\n",
    "mass[mass > 10] = 0\n",
    "\n",
    "print(f'Итоговый массив:\\n{mass}')"
   ]
  },
  {
   "cell_type": "markdown",
   "id": "6376b6c4-5a44-4005-bd09-53766db50465",
   "metadata": {},
   "source": [
    "Задание 2. **Работа с булевыми масками**\n",
    "\n",
    "Создайте массив NumPy из 20 случайных целых чисел от 1 до 100. Найдите и выведите все элементы, которые делятся на 5 без остатка. Затем замените их на -1 и выведите обновленный массив."
   ]
  },
  {
   "cell_type": "code",
   "execution_count": 6,
   "id": "730b23b5-7a43-4de8-a87a-07a6b8da6411",
   "metadata": {},
   "outputs": [
    {
     "name": "stdout",
     "output_type": "stream",
     "text": [
      "Исходный массив: [ 77  27  22  47 100  81  43  42  39  78  40  26  90  66  88  50   4  33\n",
      "  89  39]\n",
      "Итоговый массив: [77 27 22 47 -1 81 43 42 39 78 -1 26 -1 66 88 -1  4 33 89 39]\n",
      "Делятся на 5 без остатка: [77 27 22 47 -1 81 43 42 39 78 -1 26 -1 66 88 -1  4 33 89 39]\n"
     ]
    }
   ],
   "source": [
    "mass = np.random.randint(1, 101, size = 20)\n",
    "print(f'Исходный массив: {mass}')\n",
    "\n",
    "multipleOf5 = mass % 5 == 0\n",
    "mass[mass % 5 == 0] = -1\n",
    "print(f'Итоговый массив: {mass}')\n",
    "mass[multipleOf5]\n",
    "print(f'Делятся на 5 без остатка: {mass}')\n",
    "\n"
   ]
  },
  {
   "cell_type": "markdown",
   "id": "c19555fe-1f6d-41c7-9635-d6ca12fa824a",
   "metadata": {},
   "source": [
    "Задание 3. **Объединение и разбиение массивов**\n",
    "\n",
    "Создайте два массива NumPy размером 1×5, заполненные случайными числами от 0 до 50.\n",
    "\n",
    "- Объедините эти массивы в один двумерный массив (по строкам).\n",
    "- Разделите полученный массив на два массива, каждый из которых содержит 5 элементов."
   ]
  },
  {
   "cell_type": "code",
   "execution_count": 9,
   "id": "72d6c546-7413-4dc8-a136-dd96a24d9b7c",
   "metadata": {},
   "outputs": [
    {
     "name": "stdout",
     "output_type": "stream",
     "text": [
      "Первый массив:\n",
      "[[44 23 15 43 24]]\n",
      "Второй массив:\n",
      "[[13 45 36 29 31]]\n",
      "Объединенный массив:\n",
      "[[44 23 15 43 24]\n",
      " [13 45 36 29 31]]\n",
      "Разделенный массив:\n",
      "[array([[44, 23, 15, 43, 24]]), array([[13, 45, 36, 29, 31]])]\n"
     ]
    }
   ],
   "source": [
    "mass1 = np.random.randint(0, 51, size=(1,5))\n",
    "mass2 = np.random.randint(0, 51, size=(1,5))\n",
    "\n",
    "mass3 = np.vstack((mass1,mass2))\n",
    "mass4 = np.split(mass3, 2, axis=0)\n",
    "\n",
    "print(f'Первый массив:\\n{mass1}\\nВторой массив:\\n{mass2}')\n",
    "print(f'Объединенный массив:\\n{mass3}\\nРазделенный массив:\\n{mass4}')"
   ]
  },
  {
   "cell_type": "markdown",
   "id": "3f394c62-daeb-44f0-b350-996ad255ce24",
   "metadata": {},
   "source": [
    "Задание 4. **Генерация и работа с линейными последовательностями.**\n",
    "\n",
    "Создайте массив из 50 чисел, равномерно распределенных от -10 до 10. Вычислите сумму всех элементов, сумму положительных элементов и сумму отрицательных элементов. Выведите результаты."
   ]
  },
  {
   "cell_type": "code",
   "execution_count": 12,
   "id": "d3c91e47-a01f-4551-9aee-5898b17975b8",
   "metadata": {},
   "outputs": [
    {
     "name": "stdout",
     "output_type": "stream",
     "text": [
      "Исходный массив:\n",
      " [77 27 22 47 -1 81 43 42 39 78 -1 26 -1 66 88 -1  4 33 89 39]\n",
      "Сумма всех элементов: 797\n",
      "Сумма всех отрицательных: -4\n",
      "Сумма всех положительных: 801\n"
     ]
    }
   ],
   "source": [
    "massFirst = np.arange(-10, 10, 0.4)\n",
    "mass = np.round(mass,1)\n",
    "print(f'Исходный массив:\\n {mass}')\n",
    "\n",
    "sumOfAll = mass.sum()\n",
    "sumOfNegative = mass[mass<0].sum()\n",
    "sumOfPositive = mass[mass>0].sum()\n",
    "\n",
    "print(f'Сумма всех элементов: {sumOfAll}')\n",
    "print(f'Сумма всех отрицательных: {sumOfNegative}')\n",
    "print(f'Сумма всех положительных: {sumOfPositive}')"
   ]
  },
  {
   "cell_type": "markdown",
   "id": "6fe81e89-881e-445c-9ddb-3e4e2a4c456e",
   "metadata": {},
   "source": [
    "Задание 5. Работа с диагональными и единичными матрицами\n",
    "\n",
    "Создайте:\n",
    "\n",
    "- Единичную матрицу размером 4х4.\n",
    "- Диагональную матрицу размером 4×4 с диагональными элементами \\[5, 10, 15, 20] (не использовать циклы).\n",
    "\n",
    "Найдите сумму всех элементов каждой из этих матриц и сравните результаты."
   ]
  },
  {
   "cell_type": "code",
   "execution_count": 15,
   "id": "e603367a-e0fc-4e13-888c-d977a2a4b993",
   "metadata": {},
   "outputs": [
    {
     "name": "stdout",
     "output_type": "stream",
     "text": [
      "Единичная матрица:\n",
      "[[1. 0. 0. 0.]\n",
      " [0. 1. 0. 0.]\n",
      " [0. 0. 1. 0.]\n",
      " [0. 0. 0. 1.]]\n",
      "Диагональная матрица:\n",
      "[[ 5  0  0  0]\n",
      " [ 0 10  0  0]\n",
      " [ 0  0 15  0]\n",
      " [10  0  0 20]]\n",
      "Сумма единичной: 4.0\n",
      "Сумма диагональной: 60\n",
      "Сумма диагональной матрицы больше\n"
     ]
    }
   ],
   "source": [
    "identMatr = np.eye(4)\n",
    "diagMatr = np.matrix('5, 0, 0, 0; 0, 10, 0, 0; 0, 0, 15, 0; 10, 0, 0, 20')\n",
    "\n",
    "identSum = identMatr.sum()\n",
    "diagSum = diagMatr.sum()\n",
    "\n",
    "print(f'Единичная матрица:\\n{identMatr}')\n",
    "print(f'Диагональная матрица:\\n{diagMatr}')\n",
    "print(f'Сумма единичной: {identSum}\\nСумма диагональной: {diagSum}')\n",
    "if identSum > diagSum:\n",
    "    print('Сумма единичной матрицы больше')\n",
    "else:\n",
    "    print('Сумма диагональной матрицы больше')"
   ]
  },
  {
   "cell_type": "markdown",
   "id": "7aa90136-3336-4d90-be85-eb60069e755e",
   "metadata": {},
   "source": [
    "Задание 6. Создание и базовые операции с матрицами\n",
    "\n",
    "Создайте две квадратные матрицы NumPy размером 3×3, заполненные случайными целыми числами от 1 до 20. Вычислите и выведите:\n",
    "\n",
    "- Их сумму\n",
    "- Их разность\n",
    "- Их поэлементное произведение."
   ]
  },
  {
   "cell_type": "code",
   "execution_count": 18,
   "id": "320e0492-2a9d-4e92-87c4-c2ed14d60df2",
   "metadata": {},
   "outputs": [
    {
     "name": "stdout",
     "output_type": "stream",
     "text": [
      "Исходный массив 1:\n",
      "[[19  6 10]\n",
      " [ 3  3 15]\n",
      " [11 17  1]]\n",
      "Исходный массив 2:\n",
      "[[ 6 12 11]\n",
      " [ 5 16 13]\n",
      " [11 13 16]]\n",
      "Сумма матриц:\n",
      "[[25 18 21]\n",
      " [ 8 19 28]\n",
      " [22 30 17]]\n",
      "Разность матриц:\n",
      "[[ 13  -6  -1]\n",
      " [ -2 -13   2]\n",
      " [  0   4 -15]]\n",
      "Поэлементное произведение матриц:\n",
      "[[114  72 110]\n",
      " [ 15  48 195]\n",
      " [121 221  16]]\n"
     ]
    }
   ],
   "source": [
    "mass1 = np.random.randint(1, 20, size = (3,3))\n",
    "mass2 = np.random.randint(1, 20, size = (3,3))\n",
    "\n",
    "\n",
    "sumMatr = mass1 + mass2\n",
    "diffMatr = mass1 - mass2\n",
    "dotElementMatr = mass1 * mass2\n",
    "\n",
    "print(f'Исходный массив 1:\\n{mass1}')\n",
    "print(f'Исходный массив 2:\\n{mass2}')\n",
    "print(f'Сумма матриц:\\n{sumMatr}')\n",
    "print(f'Разность матриц:\\n{diffMatr}')\n",
    "print(f'Поэлементное произведение матриц:\\n{dotElementMatr}')"
   ]
  },
  {
   "cell_type": "markdown",
   "id": "fce182c3-ff53-478d-a95c-a3e1abfc4869",
   "metadata": {},
   "source": [
    "Задание 7. **Умножение матриц**\n",
    "\n",
    "Создайте две матрицы NumPy:\n",
    "\n",
    "- Первую размером 2×3, заполненную случайными числами от 1 до 10.\n",
    "- Вторую размером 3×2, заполненную случайными числами от 1 до 10."
   ]
  },
  {
   "cell_type": "code",
   "execution_count": 29,
   "id": "fa4f6b18-d952-40a7-8d29-508ae7c443ad",
   "metadata": {},
   "outputs": [
    {
     "name": "stdout",
     "output_type": "stream",
     "text": [
      "Исходный массив 1:\n",
      " [[9 8 8]\n",
      " [1 4 8]]\n",
      "Исходный массив 2:\n",
      " [[7 4]\n",
      " [3 3]\n",
      " [1 9]]\n",
      "Произведение матриц:\n",
      " [[ 95 132]\n",
      " [ 27  88]]\n"
     ]
    }
   ],
   "source": [
    "mass1 = np.random.randint(1,11, size = (2,3))\n",
    "mass2 = np.random.randint(1,11, size = (3,2))\n",
    "proizMatr = np.dot(mass1,mass2)\n",
    "\n",
    "print(f'Исходный массив 1:\\n {mass1}')\n",
    "print(f'Исходный массив 2:\\n {mass2}')\n",
    "print(f'Произведение матриц:\\n {proizMatr}')"
   ]
  },
  {
   "cell_type": "markdown",
   "id": "4e1e0822-b72b-4535-8e0b-6d0511f1eb8b",
   "metadata": {},
   "source": [
    "Задание 8. **Определитель и обратная матрица**\n",
    "\n",
    "Создайте случайную квадратную матрицу 3х3. Найдите и выведите:\n",
    "\n",
    "- Определитель этой матрицы\n",
    "- Обратную матрицу (если существует, иначе выведите сообщение, что матрица вырождена)"
   ]
  },
  {
   "cell_type": "code",
   "execution_count": 74,
   "id": "102f7240-2c0f-4995-a91f-9329fd239fbe",
   "metadata": {},
   "outputs": [
    {
     "name": "stdout",
     "output_type": "stream",
     "text": [
      "Исходный массив:\n",
      " [[ -9  -8  -9]\n",
      " [ -2   5   3]\n",
      " [  9 -10  -8]]\n",
      "Определитель равен: 227\n",
      "Обратная матрица:\n",
      "[[-0.04405286  0.11453744  0.09251101]\n",
      " [ 0.04845815  0.67400881  0.19823789]\n",
      " [-0.11013216 -0.71365639 -0.26872247]]\n"
     ]
    }
   ],
   "source": [
    "mass = np.random.randint(-10,10, size = (3,3))\n",
    "det = round(np.linalg.det(mass))\n",
    "\n",
    "print(f'Исходный массив:\\n {mass}')\n",
    "print(f'Определитель равен: {det}')\n",
    "if det == 0:\n",
    "    print('Обратную матрицу нельзя найти, т.к. определитель равен 0')\n",
    "else:\n",
    "    invMatr = np.linalg.inv(mass)\n",
    "    print(f'Обратная матрица:\\n{invMatr}')\n"
   ]
  },
  {
   "cell_type": "markdown",
   "id": "7a4edd7e-bc2d-4a40-b0dc-b35bd4b4be53",
   "metadata": {},
   "source": [
    "Задание 9. Транспонирование и след матрицы\n",
    "\n",
    "Создайте матрицу NumPy размером 4×4, содержащую случайные целые числа от 1 до 50. Выведите:\n",
    "\n",
    "- Исходную матрицу\n",
    "- Транспонированную матрицу\n",
    "- След матрицы (сумму элементов по главной диагонали)"
   ]
  },
  {
   "cell_type": "code",
   "execution_count": 65,
   "id": "403d1f4d-6c2d-4ceb-ac09-cacb19e54f4f",
   "metadata": {},
   "outputs": [
    {
     "name": "stdout",
     "output_type": "stream",
     "text": [
      "Исходный массив:\n",
      "[[-10   0  -6   3]\n",
      " [  3  -3  -7   2]\n",
      " [ -8   2   1  -5]\n",
      " [ -3   0  -3  -9]]\n",
      "Транспонированная матрица:\n",
      "[[-10   3  -8  -3]\n",
      " [  0  -3   2   0]\n",
      " [ -6  -7   1  -3]\n",
      " [  3   2  -5  -9]]\n",
      "След матрицы:-21\n"
     ]
    }
   ],
   "source": [
    "mass = np.random.randint(-10,10, size = (4,4))\n",
    "transpMatr = np.transpose(mass)\n",
    "diagMatr = np.diag(mass)\n",
    "sledMatr = np.sum(diagMatr)\n",
    "\n",
    "print(f'Исходный массив:\\n{mass}')\n",
    "print(f'Транспонированная матрица:\\n{transpMatr}')\n",
    "print(f'След матрицы:{sledMatr}')"
   ]
  },
  {
   "cell_type": "markdown",
   "id": "db3fa650-6830-4df7-b1f9-9cb6035fbda8",
   "metadata": {},
   "source": [
    "Задарние 10. **Системы линейных уравнений**\n",
    "\n",
    "Решите систему линейных уравнений вида: \n",
    "\n",
    "2x + 3y - z = 5\n",
    "\n",
    "4x - y + 2z = 6\n",
    "\n",
    "-3x + 5y + 4z = -2\n",
    "\n",
    "Используйте матричное представление Ax = B , где A – матрица коэффициентов, x – вектор неизвестных, B – вектор правой части. Решите систему с помощью np.linalg.solve и выведите результат."
   ]
  },
  {
   "cell_type": "code",
   "execution_count": 80,
   "id": "31d1fd8d-4af6-445c-bd38-691e148ac58c",
   "metadata": {},
   "outputs": [
    {
     "name": "stdout",
     "output_type": "stream",
     "text": [
      "Ответ:\n",
      "x = 1.64\n",
      "y = 0.577\n",
      "z = 0.009\n"
     ]
    }
   ],
   "source": [
    "mass = np.array([[2, 3, -1], [4, -1, 2], [-3, 5, 4]])\n",
    "b = np.array([5, 6, -2])\n",
    "x = np.linalg.solve(mass, b)\n",
    "\n",
    "print('Ответ:')\n",
    "print(f'x = {round(x[0],3)}')\n",
    "print(f'y = {round(x[1],3)}')\n",
    "print(f'z = {round(x[2],3)}')"
   ]
  },
  {
   "cell_type": "markdown",
   "id": "7d74d368-f887-4397-8857-c039fcd588f3",
   "metadata": {},
   "source": [
    "Задание 11. **Индивидуальное задание**\n",
    "\n",
    "Решите индивидуальное задание согласно варианта. Каждое задание предусматривает построение системы линейных уравнений. Решите полученную систему уравнений с использованием библиотеки NumPy. Для решения системы используйте метод Крамера и матричный метод. Сравните полученные результаты, с результатами, полученными с помощью np.linalg.solve.\n",
    "\n",
    "**Смешивание сплавов**. Для создания нового металлического сплава используются три вида металлов. Первый содержит 40% железа, второй — 60%, третий — 80%. Нужно получить 200 кг сплава с 65% железа, при этом второго металла должно быть в два раза больше, чем первого. Сколько килограммов каждого металла нужно взять?\n",
    "\n",
    "Система уравнений:\n",
    "\n",
    "`x + y + z = 200`\n",
    "\n",
    "`0.4x + 0.6y + 0.8z = 130`\n",
    "\n",
    "`-2x + y + 0z = 0`"
   ]
  },
  {
   "cell_type": "code",
   "execution_count": 51,
   "id": "313f3531-58c6-457b-bf5d-b3d97e5be8f9",
   "metadata": {},
   "outputs": [
    {
     "name": "stdout",
     "output_type": "stream",
     "text": [
      "Метод Крамера:\n",
      "x = 37.5, y = 75.0, z = 87.5\n"
     ]
    }
   ],
   "source": [
    "a = np.array([[1, 1, 1], [0.4, 0.6, 0.8], [-2, 1, 0]])\n",
    "b = np.array([200, 130, 0])\n",
    "\n",
    "det_A = np.linalg.det(a)\n",
    "\n",
    "A_x = a.copy()\n",
    "A_x[:, 0] = b \n",
    "A_y = a.copy()\n",
    "A_y[:, 1] = b\n",
    "A_z = a.copy()\n",
    "A_z[:, 2] = b\n",
    "\n",
    "det_Ax = np.linalg.det(A_x)\n",
    "det_Ay = np.linalg.det(A_y)\n",
    "det_Az = np.linalg.det(A_z)\n",
    "\n",
    "x = det_Ax / det_A\n",
    "y = det_Ay / det_A\n",
    "z = det_Az / det_A\n",
    "\n",
    "x, y, z = np.round([x, y, z], 1)\n",
    "\n",
    "print('Метод Крамера:')\n",
    "print(f'x = {x}, y = {y}, z = {z}')"
   ]
  },
  {
   "cell_type": "code",
   "execution_count": 59,
   "id": "287b975c-c118-4e6f-8eb3-3ecc52ae88c0",
   "metadata": {},
   "outputs": [
    {
     "name": "stdout",
     "output_type": "stream",
     "text": [
      "Матричный метод:\n",
      "x = 37.5, y = 75.0, z = 87.5\n"
     ]
    }
   ],
   "source": [
    "a = np.array([[1, 1, 1], [0.4, 0.6, 0.8], [-2, 1, 0]])\n",
    "b = np.array([200, 130, 0])\n",
    "\n",
    "A_inv = np.linalg.inv(a)\n",
    "\n",
    "v = np.dot(A_inv, b)\n",
    "\n",
    "x, y, z = np.round(v, 1)\n",
    "\n",
    "print('Матричный метод:')\n",
    "print(f'x = {x}, y = {y}, z = {z}')"
   ]
  },
  {
   "cell_type": "code",
   "execution_count": 61,
   "id": "f31049d1-aba2-4d7f-a846-c9f9f8e13004",
   "metadata": {},
   "outputs": [
    {
     "name": "stdout",
     "output_type": "stream",
     "text": [
      "Решение с помощью linalg:\n",
      "x = 37.5, y = 75.0, z = 87.5\n"
     ]
    }
   ],
   "source": [
    "a = np.array([[1, 1, 1], [0.4, 0.6, 0.8], [-2, 1, 0]])\n",
    "b = np.array([200, 130, 0])\n",
    "v = np.round(np.linalg.solve(a, b), 2)\n",
    "\n",
    "x = v[0]\n",
    "y = v[1]\n",
    "z = v[2]\n",
    "\n",
    "print('Решение с помощью linalg:')\n",
    "print(f'x = {x}, y = {y}, z = {z}')"
   ]
  }
 ],
 "metadata": {
  "kernelspec": {
   "display_name": "Python [conda env:base] *",
   "language": "python",
   "name": "conda-base-py"
  },
  "language_info": {
   "codemirror_mode": {
    "name": "ipython",
    "version": 3
   },
   "file_extension": ".py",
   "mimetype": "text/x-python",
   "name": "python",
   "nbconvert_exporter": "python",
   "pygments_lexer": "ipython3",
   "version": "3.12.7"
  }
 },
 "nbformat": 4,
 "nbformat_minor": 5
}
